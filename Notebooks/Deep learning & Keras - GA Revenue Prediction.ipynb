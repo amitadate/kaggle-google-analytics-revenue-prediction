{
 "cells": [
  {
   "cell_type": "markdown",
   "metadata": {
    "_uuid": "4a9094ddd740f86c38d892842f67dc07d1a9f23c"
   },
   "source": [
    "## Deep Learning with Keras - Google Analytics Customer Revenue Prediction\n* Note: this is just a starting point, there's a lot of work to be done.\n* A begginer version with [LGBM](https://www.kaggle.com/dimitreoliveira/lgbm-google-store-revenue-prediction)"
   ]
  },
  {
   "cell_type": "markdown",
   "metadata": {
    "trusted": true,
    "collapsed": true,
    "_uuid": "2ed662be3aa5d066387243fcf310e812a1cbec95"
   },
   "source": [
    "### Dependencies"
   ]
  },
  {
   "cell_type": "code",
   "execution_count": 35,
   "metadata": {
    "_uuid": "8f2839f25d086af736a60e9eeb907d3b93b6e0e5",
    "_cell_guid": "b1076dfc-b9ad-4769-8c92-a6c4dae69d19",
    "trusted": true,
    "_kg_hide-input": true,
    "_kg_hide-output": true
   },
   "outputs": [],
   "source": [
    "import os\n",
    "import json\n",
    "import datetime\n",
    "import numpy as np\n",
    "import pandas as pd\n",
    "import seaborn as sns\n",
    "import matplotlib.pyplot as plt\n",
    "from pandas.io.json import json_normalize\n",
    "from sklearn.metrics import mean_squared_error\n",
    "from sklearn import preprocessing\n",
    "from sklearn.model_selection import train_test_split\n",
    "from keras.models import Sequential\n",
    "from keras.layers import Dense, Dropout, BatchNormalization, Activation, Dropout\n",
    "from keras import optimizers\n",
    "\n",
    "%matplotlib inline\n",
    "pd.options.display.max_columns = 999"
   ]
  },
  {
   "cell_type": "markdown",
   "metadata": {
    "_uuid": "36892733d801ade05ec57a731ea4054a9d23fb9b"
   },
   "source": [
    "### Auxiliar functions"
   ]
  },
  {
   "cell_type": "code",
   "execution_count": 36,
   "metadata": {
    "_kg_hide-input": true,
    "trusted": true,
    "_uuid": "1d3ed22fe6c41863c14c77d95e2d8e7bc3fce432"
   },
   "outputs": [],
   "source": [
    "def add_time_features(df):\n",
    "    df['date'] = pd.to_datetime(df['date'], format='%Y%m%d', errors='ignore')\n",
    "    df['year'] = df['date'].apply(lambda x: x.year)\n",
    "    df['month'] = df['date'].apply(lambda x: x.month)\n",
    "    df['day'] = df['date'].apply(lambda x: x.day)\n",
    "    df['weekday'] = df['date'].apply(lambda x: x.weekday())\n",
    "    \n",
    "    return df\n",
    "\n",
    "\n",
    "def plot_metrics(loss, val_loss):\n",
    "    fig, (ax1) = plt.subplots(1, 1, sharex='col', figsize=(20,7))\n",
    "    ax1.plot(loss, label='Train loss')\n",
    "    ax1.plot(val_loss, label='Validation loss')\n",
    "    ax1.legend(loc='best')\n",
    "    ax1.set_title('Loss')\n",
    "    plt.xlabel('Epochs')"
   ]
  },
  {
   "cell_type": "markdown",
   "metadata": {
    "_uuid": "fcac3f636f8ea4c14ac51791269189a372490b8f"
   },
   "source": [
    "Function to load and convert files borrowed from this [kernel](https://www.kaggle.com/julian3833/1-quick-start-read-csv-and-flatten-json-fields/notebook), thanks!"
   ]
  },
  {
   "cell_type": "code",
   "execution_count": 37,
   "metadata": {
    "_cell_guid": "79c7e3d0-c299-4dcb-8224-4455121ee9b0",
    "_uuid": "d629ff2d2480ee46fbb7e2d37f6b5fab8052498a",
    "trusted": true,
    "_kg_hide-input": true,
    "_kg_hide-output": false
   },
   "outputs": [],
   "source": [
    "def load_df(csv_path='../input/train.csv', nrows=None):\n",
    "    JSON_COLUMNS = ['device', 'geoNetwork', 'totals', 'trafficSource']\n",
    "\n",
    "    df = pd.read_csv(csv_path, dtype={'fullVisitorId': 'str'}, nrows=nrows)\n",
    "\n",
    "    for column in JSON_COLUMNS:\n",
    "        df = df.join(pd.DataFrame(df.pop(column).apply(pd.io.json.loads).values.tolist(), index=df.index))\n",
    "\n",
    "    return df"
   ]
  },
  {
   "cell_type": "code",
   "execution_count": 38,
   "metadata": {
    "trusted": true,
    "_uuid": "42961d5e360501d9a04c9ee92acd731e403bd873",
    "_kg_hide-input": true
   },
   "outputs": [],
   "source": [
    "train = load_df(\"../input/train.csv\")\n",
    "test = load_df(\"../input/test.csv\")"
   ]
  },
  {
   "cell_type": "markdown",
   "metadata": {
    "_uuid": "fc7e985fb9c9d0120ef419de2a5f9ced5e174273"
   },
   "source": [
    "### About the train data"
   ]
  },
  {
   "cell_type": "code",
   "execution_count": 39,
   "metadata": {
    "trusted": true,
    "_uuid": "37e4904b3a2a51aa384e648f1729c809aa63feea",
    "_kg_hide-input": true
   },
   "outputs": [
    {
     "data": {
      "text/html": [
       "<div>\n<style scoped>\n    .dataframe tbody tr th:only-of-type {\n        vertical-align: middle;\n    }\n\n    .dataframe tbody tr th {\n        vertical-align: top;\n    }\n\n    .dataframe thead th {\n        text-align: right;\n    }\n</style>\n<table border=\"1\" class=\"dataframe\">\n  <thead>\n    <tr style=\"text-align: right;\">\n      <th></th>\n      <th>channelGrouping</th>\n      <th>date</th>\n      <th>fullVisitorId</th>\n      <th>sessionId</th>\n      <th>socialEngagementType</th>\n      <th>visitId</th>\n      <th>visitNumber</th>\n      <th>visitStartTime</th>\n      <th>browser</th>\n      <th>browserSize</th>\n      <th>browserVersion</th>\n      <th>deviceCategory</th>\n      <th>flashVersion</th>\n      <th>isMobile</th>\n      <th>language</th>\n      <th>mobileDeviceBranding</th>\n      <th>mobileDeviceInfo</th>\n      <th>mobileDeviceMarketingName</th>\n      <th>mobileDeviceModel</th>\n      <th>mobileInputSelector</th>\n      <th>operatingSystem</th>\n      <th>operatingSystemVersion</th>\n      <th>screenColors</th>\n      <th>screenResolution</th>\n      <th>city</th>\n      <th>cityId</th>\n      <th>continent</th>\n      <th>country</th>\n      <th>latitude</th>\n      <th>longitude</th>\n      <th>metro</th>\n      <th>networkDomain</th>\n      <th>networkLocation</th>\n      <th>region</th>\n      <th>subContinent</th>\n      <th>bounces</th>\n      <th>hits</th>\n      <th>newVisits</th>\n      <th>pageviews</th>\n      <th>transactionRevenue</th>\n      <th>visits</th>\n      <th>adContent</th>\n      <th>adwordsClickInfo</th>\n      <th>campaign</th>\n      <th>campaignCode</th>\n      <th>isTrueDirect</th>\n      <th>keyword</th>\n      <th>medium</th>\n      <th>referralPath</th>\n      <th>source</th>\n    </tr>\n  </thead>\n  <tbody>\n    <tr>\n      <th>0</th>\n      <td>Organic Search</td>\n      <td>20160902</td>\n      <td>1131660440785968503</td>\n      <td>1131660440785968503_1472830385</td>\n      <td>Not Socially Engaged</td>\n      <td>1472830385</td>\n      <td>1</td>\n      <td>1472830385</td>\n      <td>Chrome</td>\n      <td>not available in demo dataset</td>\n      <td>not available in demo dataset</td>\n      <td>desktop</td>\n      <td>not available in demo dataset</td>\n      <td>False</td>\n      <td>not available in demo dataset</td>\n      <td>not available in demo dataset</td>\n      <td>not available in demo dataset</td>\n      <td>not available in demo dataset</td>\n      <td>not available in demo dataset</td>\n      <td>not available in demo dataset</td>\n      <td>Windows</td>\n      <td>not available in demo dataset</td>\n      <td>not available in demo dataset</td>\n      <td>not available in demo dataset</td>\n      <td>Izmir</td>\n      <td>not available in demo dataset</td>\n      <td>Asia</td>\n      <td>Turkey</td>\n      <td>not available in demo dataset</td>\n      <td>not available in demo dataset</td>\n      <td>(not set)</td>\n      <td>ttnet.com.tr</td>\n      <td>not available in demo dataset</td>\n      <td>Izmir</td>\n      <td>Western Asia</td>\n      <td>1</td>\n      <td>1</td>\n      <td>1</td>\n      <td>1</td>\n      <td>NaN</td>\n      <td>1</td>\n      <td>NaN</td>\n      <td>{'criteriaParameters': 'not available in demo ...</td>\n      <td>(not set)</td>\n      <td>NaN</td>\n      <td>NaN</td>\n      <td>(not provided)</td>\n      <td>organic</td>\n      <td>NaN</td>\n      <td>google</td>\n    </tr>\n    <tr>\n      <th>1</th>\n      <td>Organic Search</td>\n      <td>20160902</td>\n      <td>377306020877927890</td>\n      <td>377306020877927890_1472880147</td>\n      <td>Not Socially Engaged</td>\n      <td>1472880147</td>\n      <td>1</td>\n      <td>1472880147</td>\n      <td>Firefox</td>\n      <td>not available in demo dataset</td>\n      <td>not available in demo dataset</td>\n      <td>desktop</td>\n      <td>not available in demo dataset</td>\n      <td>False</td>\n      <td>not available in demo dataset</td>\n      <td>not available in demo dataset</td>\n      <td>not available in demo dataset</td>\n      <td>not available in demo dataset</td>\n      <td>not available in demo dataset</td>\n      <td>not available in demo dataset</td>\n      <td>Macintosh</td>\n      <td>not available in demo dataset</td>\n      <td>not available in demo dataset</td>\n      <td>not available in demo dataset</td>\n      <td>not available in demo dataset</td>\n      <td>not available in demo dataset</td>\n      <td>Oceania</td>\n      <td>Australia</td>\n      <td>not available in demo dataset</td>\n      <td>not available in demo dataset</td>\n      <td>not available in demo dataset</td>\n      <td>dodo.net.au</td>\n      <td>not available in demo dataset</td>\n      <td>not available in demo dataset</td>\n      <td>Australasia</td>\n      <td>1</td>\n      <td>1</td>\n      <td>1</td>\n      <td>1</td>\n      <td>NaN</td>\n      <td>1</td>\n      <td>NaN</td>\n      <td>{'criteriaParameters': 'not available in demo ...</td>\n      <td>(not set)</td>\n      <td>NaN</td>\n      <td>NaN</td>\n      <td>(not provided)</td>\n      <td>organic</td>\n      <td>NaN</td>\n      <td>google</td>\n    </tr>\n    <tr>\n      <th>2</th>\n      <td>Organic Search</td>\n      <td>20160902</td>\n      <td>3895546263509774583</td>\n      <td>3895546263509774583_1472865386</td>\n      <td>Not Socially Engaged</td>\n      <td>1472865386</td>\n      <td>1</td>\n      <td>1472865386</td>\n      <td>Chrome</td>\n      <td>not available in demo dataset</td>\n      <td>not available in demo dataset</td>\n      <td>desktop</td>\n      <td>not available in demo dataset</td>\n      <td>False</td>\n      <td>not available in demo dataset</td>\n      <td>not available in demo dataset</td>\n      <td>not available in demo dataset</td>\n      <td>not available in demo dataset</td>\n      <td>not available in demo dataset</td>\n      <td>not available in demo dataset</td>\n      <td>Windows</td>\n      <td>not available in demo dataset</td>\n      <td>not available in demo dataset</td>\n      <td>not available in demo dataset</td>\n      <td>Madrid</td>\n      <td>not available in demo dataset</td>\n      <td>Europe</td>\n      <td>Spain</td>\n      <td>not available in demo dataset</td>\n      <td>not available in demo dataset</td>\n      <td>(not set)</td>\n      <td>unknown.unknown</td>\n      <td>not available in demo dataset</td>\n      <td>Community of Madrid</td>\n      <td>Southern Europe</td>\n      <td>1</td>\n      <td>1</td>\n      <td>1</td>\n      <td>1</td>\n      <td>NaN</td>\n      <td>1</td>\n      <td>NaN</td>\n      <td>{'criteriaParameters': 'not available in demo ...</td>\n      <td>(not set)</td>\n      <td>NaN</td>\n      <td>NaN</td>\n      <td>(not provided)</td>\n      <td>organic</td>\n      <td>NaN</td>\n      <td>google</td>\n    </tr>\n    <tr>\n      <th>3</th>\n      <td>Organic Search</td>\n      <td>20160902</td>\n      <td>4763447161404445595</td>\n      <td>4763447161404445595_1472881213</td>\n      <td>Not Socially Engaged</td>\n      <td>1472881213</td>\n      <td>1</td>\n      <td>1472881213</td>\n      <td>UC Browser</td>\n      <td>not available in demo dataset</td>\n      <td>not available in demo dataset</td>\n      <td>desktop</td>\n      <td>not available in demo dataset</td>\n      <td>False</td>\n      <td>not available in demo dataset</td>\n      <td>not available in demo dataset</td>\n      <td>not available in demo dataset</td>\n      <td>not available in demo dataset</td>\n      <td>not available in demo dataset</td>\n      <td>not available in demo dataset</td>\n      <td>Linux</td>\n      <td>not available in demo dataset</td>\n      <td>not available in demo dataset</td>\n      <td>not available in demo dataset</td>\n      <td>not available in demo dataset</td>\n      <td>not available in demo dataset</td>\n      <td>Asia</td>\n      <td>Indonesia</td>\n      <td>not available in demo dataset</td>\n      <td>not available in demo dataset</td>\n      <td>not available in demo dataset</td>\n      <td>unknown.unknown</td>\n      <td>not available in demo dataset</td>\n      <td>not available in demo dataset</td>\n      <td>Southeast Asia</td>\n      <td>1</td>\n      <td>1</td>\n      <td>1</td>\n      <td>1</td>\n      <td>NaN</td>\n      <td>1</td>\n      <td>NaN</td>\n      <td>{'criteriaParameters': 'not available in demo ...</td>\n      <td>(not set)</td>\n      <td>NaN</td>\n      <td>NaN</td>\n      <td>google + online</td>\n      <td>organic</td>\n      <td>NaN</td>\n      <td>google</td>\n    </tr>\n    <tr>\n      <th>4</th>\n      <td>Organic Search</td>\n      <td>20160902</td>\n      <td>27294437909732085</td>\n      <td>27294437909732085_1472822600</td>\n      <td>Not Socially Engaged</td>\n      <td>1472822600</td>\n      <td>2</td>\n      <td>1472822600</td>\n      <td>Chrome</td>\n      <td>not available in demo dataset</td>\n      <td>not available in demo dataset</td>\n      <td>mobile</td>\n      <td>not available in demo dataset</td>\n      <td>True</td>\n      <td>not available in demo dataset</td>\n      <td>not available in demo dataset</td>\n      <td>not available in demo dataset</td>\n      <td>not available in demo dataset</td>\n      <td>not available in demo dataset</td>\n      <td>not available in demo dataset</td>\n      <td>Android</td>\n      <td>not available in demo dataset</td>\n      <td>not available in demo dataset</td>\n      <td>not available in demo dataset</td>\n      <td>not available in demo dataset</td>\n      <td>not available in demo dataset</td>\n      <td>Europe</td>\n      <td>United Kingdom</td>\n      <td>not available in demo dataset</td>\n      <td>not available in demo dataset</td>\n      <td>not available in demo dataset</td>\n      <td>unknown.unknown</td>\n      <td>not available in demo dataset</td>\n      <td>not available in demo dataset</td>\n      <td>Northern Europe</td>\n      <td>1</td>\n      <td>1</td>\n      <td>NaN</td>\n      <td>1</td>\n      <td>NaN</td>\n      <td>1</td>\n      <td>NaN</td>\n      <td>{'criteriaParameters': 'not available in demo ...</td>\n      <td>(not set)</td>\n      <td>NaN</td>\n      <td>True</td>\n      <td>(not provided)</td>\n      <td>organic</td>\n      <td>NaN</td>\n      <td>google</td>\n    </tr>\n  </tbody>\n</table>\n</div>"
      ],
      "text/plain": [
       "  channelGrouping      date        fullVisitorId  \\\n0  Organic Search  20160902  1131660440785968503   \n1  Organic Search  20160902   377306020877927890   \n2  Organic Search  20160902  3895546263509774583   \n3  Organic Search  20160902  4763447161404445595   \n4  Organic Search  20160902    27294437909732085   \n\n                        sessionId  socialEngagementType     visitId  \\\n0  1131660440785968503_1472830385  Not Socially Engaged  1472830385   \n1   377306020877927890_1472880147  Not Socially Engaged  1472880147   \n2  3895546263509774583_1472865386  Not Socially Engaged  1472865386   \n3  4763447161404445595_1472881213  Not Socially Engaged  1472881213   \n4    27294437909732085_1472822600  Not Socially Engaged  1472822600   \n\n   visitNumber  visitStartTime     browser                    browserSize  \\\n0            1      1472830385      Chrome  not available in demo dataset   \n1            1      1472880147     Firefox  not available in demo dataset   \n2            1      1472865386      Chrome  not available in demo dataset   \n3            1      1472881213  UC Browser  not available in demo dataset   \n4            2      1472822600      Chrome  not available in demo dataset   \n\n                  browserVersion deviceCategory  \\\n0  not available in demo dataset        desktop   \n1  not available in demo dataset        desktop   \n2  not available in demo dataset        desktop   \n3  not available in demo dataset        desktop   \n4  not available in demo dataset         mobile   \n\n                    flashVersion  isMobile                       language  \\\n0  not available in demo dataset     False  not available in demo dataset   \n1  not available in demo dataset     False  not available in demo dataset   \n2  not available in demo dataset     False  not available in demo dataset   \n3  not available in demo dataset     False  not available in demo dataset   \n4  not available in demo dataset      True  not available in demo dataset   \n\n            mobileDeviceBranding               mobileDeviceInfo  \\\n0  not available in demo dataset  not available in demo dataset   \n1  not available in demo dataset  not available in demo dataset   \n2  not available in demo dataset  not available in demo dataset   \n3  not available in demo dataset  not available in demo dataset   \n4  not available in demo dataset  not available in demo dataset   \n\n       mobileDeviceMarketingName              mobileDeviceModel  \\\n0  not available in demo dataset  not available in demo dataset   \n1  not available in demo dataset  not available in demo dataset   \n2  not available in demo dataset  not available in demo dataset   \n3  not available in demo dataset  not available in demo dataset   \n4  not available in demo dataset  not available in demo dataset   \n\n             mobileInputSelector operatingSystem  \\\n0  not available in demo dataset         Windows   \n1  not available in demo dataset       Macintosh   \n2  not available in demo dataset         Windows   \n3  not available in demo dataset           Linux   \n4  not available in demo dataset         Android   \n\n          operatingSystemVersion                   screenColors  \\\n0  not available in demo dataset  not available in demo dataset   \n1  not available in demo dataset  not available in demo dataset   \n2  not available in demo dataset  not available in demo dataset   \n3  not available in demo dataset  not available in demo dataset   \n4  not available in demo dataset  not available in demo dataset   \n\n                screenResolution                           city  \\\n0  not available in demo dataset                          Izmir   \n1  not available in demo dataset  not available in demo dataset   \n2  not available in demo dataset                         Madrid   \n3  not available in demo dataset  not available in demo dataset   \n4  not available in demo dataset  not available in demo dataset   \n\n                          cityId continent         country  \\\n0  not available in demo dataset      Asia          Turkey   \n1  not available in demo dataset   Oceania       Australia   \n2  not available in demo dataset    Europe           Spain   \n3  not available in demo dataset      Asia       Indonesia   \n4  not available in demo dataset    Europe  United Kingdom   \n\n                        latitude                      longitude  \\\n0  not available in demo dataset  not available in demo dataset   \n1  not available in demo dataset  not available in demo dataset   \n2  not available in demo dataset  not available in demo dataset   \n3  not available in demo dataset  not available in demo dataset   \n4  not available in demo dataset  not available in demo dataset   \n\n                           metro    networkDomain  \\\n0                      (not set)     ttnet.com.tr   \n1  not available in demo dataset      dodo.net.au   \n2                      (not set)  unknown.unknown   \n3  not available in demo dataset  unknown.unknown   \n4  not available in demo dataset  unknown.unknown   \n\n                 networkLocation                         region  \\\n0  not available in demo dataset                          Izmir   \n1  not available in demo dataset  not available in demo dataset   \n2  not available in demo dataset            Community of Madrid   \n3  not available in demo dataset  not available in demo dataset   \n4  not available in demo dataset  not available in demo dataset   \n\n      subContinent bounces hits newVisits pageviews transactionRevenue visits  \\\n0     Western Asia       1    1         1         1                NaN      1   \n1      Australasia       1    1         1         1                NaN      1   \n2  Southern Europe       1    1         1         1                NaN      1   \n3   Southeast Asia       1    1         1         1                NaN      1   \n4  Northern Europe       1    1       NaN         1                NaN      1   \n\n  adContent                                   adwordsClickInfo   campaign  \\\n0       NaN  {'criteriaParameters': 'not available in demo ...  (not set)   \n1       NaN  {'criteriaParameters': 'not available in demo ...  (not set)   \n2       NaN  {'criteriaParameters': 'not available in demo ...  (not set)   \n3       NaN  {'criteriaParameters': 'not available in demo ...  (not set)   \n4       NaN  {'criteriaParameters': 'not available in demo ...  (not set)   \n\n  campaignCode isTrueDirect          keyword   medium referralPath  source  \n0          NaN          NaN   (not provided)  organic          NaN  google  \n1          NaN          NaN   (not provided)  organic          NaN  google  \n2          NaN          NaN   (not provided)  organic          NaN  google  \n3          NaN          NaN  google + online  organic          NaN  google  \n4          NaN         True   (not provided)  organic          NaN  google  "
      ]
     },
     "execution_count": 39,
     "metadata": {},
     "output_type": "execute_result"
    }
   ],
   "source": [
    "train.head()"
   ]
  },
  {
   "cell_type": "markdown",
   "metadata": {
    "_uuid": "7f88e69f0f6a6614277690c80a7d2107579781ef"
   },
   "source": [
    "### This is how our data looks like"
   ]
  },
  {
   "cell_type": "code",
   "execution_count": 40,
   "metadata": {
    "trusted": true,
    "_uuid": "8e430d6c391669e056c163e1c07b82e8e97de3d2",
    "scrolled": true,
    "_kg_hide-input": true
   },
   "outputs": [
    {
     "name": "stdout",
     "output_type": "stream",
     "text": [
      "TRAIN SET\nRows: 903653\nColumns: 50\nFeatures: ['channelGrouping' 'date' 'fullVisitorId' 'sessionId'\n 'socialEngagementType' 'visitId' 'visitNumber' 'visitStartTime' 'browser'\n 'browserSize' 'browserVersion' 'deviceCategory' 'flashVersion' 'isMobile'\n 'language' 'mobileDeviceBranding' 'mobileDeviceInfo'\n 'mobileDeviceMarketingName' 'mobileDeviceModel' 'mobileInputSelector'\n 'operatingSystem' 'operatingSystemVersion' 'screenColors'\n 'screenResolution' 'city' 'cityId' 'continent' 'country' 'latitude'\n 'longitude' 'metro' 'networkDomain' 'networkLocation' 'region'\n 'subContinent' 'bounces' 'hits' 'newVisits' 'pageviews'\n 'transactionRevenue' 'visits' 'adContent' 'adwordsClickInfo' 'campaign'\n 'campaignCode' 'isTrueDirect' 'keyword' 'medium' 'referralPath' 'source']\n\nTEST SET\nRows: 804684\nColumns: 48\nFeatures: ['channelGrouping' 'date' 'fullVisitorId' 'sessionId'\n 'socialEngagementType' 'visitId' 'visitNumber' 'visitStartTime' 'browser'\n 'browserSize' 'browserVersion' 'deviceCategory' 'flashVersion' 'isMobile'\n 'language' 'mobileDeviceBranding' 'mobileDeviceInfo'\n 'mobileDeviceMarketingName' 'mobileDeviceModel' 'mobileInputSelector'\n 'operatingSystem' 'operatingSystemVersion' 'screenColors'\n 'screenResolution' 'city' 'cityId' 'continent' 'country' 'latitude'\n 'longitude' 'metro' 'networkDomain' 'networkLocation' 'region'\n 'subContinent' 'bounces' 'hits' 'newVisits' 'pageviews' 'visits'\n 'adContent' 'adwordsClickInfo' 'campaign' 'isTrueDirect' 'keyword'\n 'medium' 'referralPath' 'source']\n"
     ]
    }
   ],
   "source": [
    "print('TRAIN SET')\n",
    "print('Rows: %s' % train.shape[0])\n",
    "print('Columns: %s' % train.shape[1])\n",
    "print('Features: %s' % train.columns.values)\n",
    "print()\n",
    "print('TEST SET')\n",
    "print('Rows: %s' % test.shape[0])\n",
    "print('Columns: %s' % test.shape[1])\n",
    "print('Features: %s' % test.columns.values)"
   ]
  },
  {
   "cell_type": "markdown",
   "metadata": {
    "_uuid": "992f5f440849702ec3b3edc38e48f6771780f50f"
   },
   "source": [
    "### Feature engineering"
   ]
  },
  {
   "cell_type": "code",
   "execution_count": 41,
   "metadata": {
    "trusted": true,
    "_uuid": "3f37d338e4e2d27345c01ce60eb0fefc52aa011d"
   },
   "outputs": [],
   "source": [
    "train = add_time_features(train)\n",
    "test = add_time_features(test)\n",
    "# Convert target feature to 'float' type.\n",
    "train[\"transactionRevenue\"] = train[\"transactionRevenue\"].astype('float')\n",
    "train['hits'] = train['hits'].astype(float)\n",
    "test['hits'] = test['hits'].astype(float)\n",
    "train['pageviews'] = train['pageviews'].astype(float)\n",
    "test['pageviews'] = test['pageviews'].astype(float)"
   ]
  },
  {
   "cell_type": "markdown",
   "metadata": {
    "_uuid": "f38addade64ef2cbc0123985bb81662a86416a99"
   },
   "source": [
    "### Agregated features"
   ]
  },
  {
   "cell_type": "code",
   "execution_count": 42,
   "metadata": {
    "trusted": true,
    "_uuid": "34d2cbb80f23295033b528b7f22b981d49b7b05b"
   },
   "outputs": [],
   "source": [
    "# Train\n",
    "gp_fullVisitorId_train = train.groupby(['fullVisitorId']).agg('sum')\n",
    "gp_fullVisitorId_train['fullVisitorId'] = gp_fullVisitorId_train.index\n",
    "gp_fullVisitorId_train['mean_hits_per_day'] = gp_fullVisitorId_train.groupby(['day'])['hits'].transform('mean')\n",
    "gp_fullVisitorId_train['mean_pageviews_per_day'] = gp_fullVisitorId_train.groupby(['day'])['pageviews'].transform('mean')\n",
    "gp_fullVisitorId_train['sum_hits_per_day'] = gp_fullVisitorId_train.groupby(['day'])['hits'].transform('sum')\n",
    "gp_fullVisitorId_train['sum_pageviews_per_day'] = gp_fullVisitorId_train.groupby(['day'])['pageviews'].transform('sum')\n",
    "gp_fullVisitorId_train = gp_fullVisitorId_train[['fullVisitorId', 'mean_hits_per_day', 'mean_pageviews_per_day', 'sum_hits_per_day', 'sum_pageviews_per_day']]\n",
    "train = train.join(gp_fullVisitorId_train, on='fullVisitorId', how='inner', rsuffix='_')\n",
    "train.drop(['fullVisitorId_'], axis=1, inplace=True)\n",
    "\n",
    "# Test\n",
    "gp_fullVisitorId_test = test.groupby(['fullVisitorId']).agg('sum')\n",
    "gp_fullVisitorId_test['fullVisitorId'] = gp_fullVisitorId_test.index\n",
    "gp_fullVisitorId_test['mean_hits_per_day'] = gp_fullVisitorId_test.groupby(['day'])['hits'].transform('mean')\n",
    "gp_fullVisitorId_test['mean_pageviews_per_day'] = gp_fullVisitorId_test.groupby(['day'])['pageviews'].transform('mean')\n",
    "gp_fullVisitorId_test['sum_hits_per_day'] = gp_fullVisitorId_test.groupby(['day'])['hits'].transform('sum')\n",
    "gp_fullVisitorId_test['sum_pageviews_per_day'] = gp_fullVisitorId_test.groupby(['day'])['pageviews'].transform('sum')\n",
    "gp_fullVisitorId_test = gp_fullVisitorId_test[['fullVisitorId', 'mean_hits_per_day', 'mean_pageviews_per_day', 'sum_hits_per_day', 'sum_pageviews_per_day']]\n",
    "test = test.join(gp_fullVisitorId_test, on='fullVisitorId', how='inner', rsuffix='_')\n",
    "test.drop(['fullVisitorId_'], axis=1, inplace=True)"
   ]
  },
  {
   "cell_type": "markdown",
   "metadata": {
    "_uuid": "d053ba72ff2b294e8e822ac3af53eda7201e9a30"
   },
   "source": [
    "### Exploratory data analysis"
   ]
  },
  {
   "cell_type": "markdown",
   "metadata": {
    "_uuid": "682cc1e37f809c372355c71adfbb3b1fa0cf97ca"
   },
   "source": [
    "#### Let's take a look at our target value through the time."
   ]
  },
  {
   "cell_type": "code",
   "execution_count": 43,
   "metadata": {
    "_kg_hide-input": true,
    "trusted": true,
    "_uuid": "13b91461a4de7726ce42e91e9cc440c3fc2a095f"
   },
   "outputs": [],
   "source": [
    "time_agg = train.groupby('date')['transactionRevenue'].agg(['count', 'sum'])\n",
    "year_agg = train.groupby('year')['transactionRevenue'].agg(['sum'])\n",
    "month_agg = train.groupby('month')['transactionRevenue'].agg(['sum'])\n",
    "day_agg = train.groupby('day')['transactionRevenue'].agg(['sum'])\n",
    "weekday_agg = train.groupby('weekday')['transactionRevenue'].agg(['count','sum'])"
   ]
  },
  {
   "cell_type": "markdown",
   "metadata": {
    "_uuid": "c6b49bf99cabb7f0d4a01f482ff7c116f225a429"
   },
   "source": [
    "#### Here is sum of our tagert feature \"transactionRevenue\" through the time."
   ]
  },
  {
   "cell_type": "code",
   "execution_count": 44,
   "metadata": {
    "trusted": true,
    "_uuid": "61fece58d2e3470deb5f414cd61a419629f5e095",
    "_kg_hide-input": true,
    "scrolled": true
   },
   "outputs": [
    {
     "data": {
      "image/png": "[encoded data removed]",
      "text/plain": [
       "<Figure size 1440x504 with 1 Axes>"
      ]
     },
     "metadata": {
      "needs_background": "light"
     },
     "output_type": "display_data"
    }
   ],
   "source": [
    "plt.figure(figsize=(20,7))\n",
    "plt.ticklabel_format(axis='y', style='plain')\n",
    "plt.ylabel('Sum transactionRevenue', fontsize=12)\n",
    "plt.xlabel('Date', fontsize=12)\n",
    "plt.scatter(time_agg.index.values, time_agg['sum'])\n",
    "plt.show()"
   ]
  },
  {
   "cell_type": "markdown",
   "metadata": {
    "_uuid": "0bd0d160eaacb0c7157d40e437785bc054eb025a"
   },
   "source": [
    "Seems we had more transactions on late 2016 and early 2017, date features seems to be a good addition to our model."
   ]
  },
  {
   "cell_type": "markdown",
   "metadata": {
    "_uuid": "8489d8eddf95d384f636c3a7f56218a6112802df"
   },
   "source": [
    "#### And here count of our target feature \"transactionRevenue\"."
   ]
  },
  {
   "cell_type": "code",
   "execution_count": 45,
   "metadata": {
    "_kg_hide-input": true,
    "trusted": true,
    "_uuid": "034924a8b460cb50f92c382e666330d3625689f6"
   },
   "outputs": [
    {
     "data": {
      "image/png": "[encoded data removed]",
      "text/plain": [
       "<Figure size 1440x504 with 1 Axes>"
      ]
     },
     "metadata": {
      "needs_background": "light"
     },
     "output_type": "display_data"
    }
   ],
   "source": [
    "plt.figure(figsize=(20,7))\n",
    "plt.ticklabel_format(axis='y', style='plain')\n",
    "plt.ylabel('Frequency', fontsize=12)\n",
    "plt.xlabel('Date', fontsize=12)\n",
    "plt.scatter(time_agg.index.values, time_agg['count'])\n",
    "plt.show()"
   ]
  },
  {
   "cell_type": "markdown",
   "metadata": {
    "_uuid": "a61cc057a1fc33401c07017aefe60b5bafe4504b"
   },
   "source": [
    "Again we had higher frequency at a similar time period."
   ]
  },
  {
   "cell_type": "markdown",
   "metadata": {
    "_uuid": "bfb09171f63bbed018afed67016ef6f46ce68d61"
   },
   "source": [
    "#### Let's take a look at other time features."
   ]
  },
  {
   "cell_type": "code",
   "execution_count": 46,
   "metadata": {
    "_kg_hide-input": true,
    "trusted": true,
    "_uuid": "717f1bc22ba3f4bc16b0c6a8b6128c8d6278e6a6"
   },
   "outputs": [
    {
     "data": {
      "image/png": "[encoded data removed]",
      "text/plain": [
       "<Figure size 1440x504 with 4 Axes>"
      ]
     },
     "metadata": {
      "needs_background": "light"
     },
     "output_type": "display_data"
    }
   ],
   "source": [
    "fig, ((ax1, ax2), (ax3, ax4)) = plt.subplots(nrows=2, ncols=2, figsize=(20,7))\n",
    "ax1.scatter(year_agg.index.values, year_agg['sum'])\n",
    "ax1.locator_params(nbins=2)\n",
    "ax1.ticklabel_format(axis='y', style='plain')\n",
    "ax1.set_xlabel('Year', fontsize=12)\n",
    "\n",
    "ax2.scatter(month_agg.index.values, month_agg['sum'])\n",
    "ax2.locator_params(nbins=12)\n",
    "ax2.ticklabel_format(axis='y', style='plain')\n",
    "ax2.set_xlabel('Month', fontsize=12)\n",
    "\n",
    "ax3.scatter(day_agg.index.values, day_agg['sum'])\n",
    "ax3.locator_params(nbins=10)\n",
    "ax3.ticklabel_format(axis='y', style='plain')\n",
    "ax3.set_xlabel('Day', fontsize=12)\n",
    "\n",
    "ax4.scatter(weekday_agg.index.values, weekday_agg['sum'])\n",
    "ax4.locator_params(nbins=7)\n",
    "ax4.ticklabel_format(axis='y', style='plain')\n",
    "ax4.set_xlabel('Weekday', fontsize=12)\n",
    "\n",
    "plt.tight_layout()\n",
    "plt.show()"
   ]
  },
  {
   "cell_type": "markdown",
   "metadata": {
    "_uuid": "512191498dba9d5931436f83a03792c4b430abfb"
   },
   "source": [
    "### About the engineered time features\n* Year: It seem transactions had a large increase from 2016 to 2017\n* Month: Lager transaction on december seems ok, but about months but im not sure why high values on april and august (maybe because of easter (april) or Tax-free weekend, back-to-school season(august)?)\n* Day: Here it seems that not really important is going on, seems this features can be discarded.\n* Weekday: Something strange is going on here, seems that weekends have less transactions?"
   ]
  },
  {
   "cell_type": "markdown",
   "metadata": {
    "_uuid": "29ade30aca892241245ab0c4ae465fc90131d4c9"
   },
   "source": [
    "### The let's do some cleaning"
   ]
  },
  {
   "cell_type": "code",
   "execution_count": 47,
   "metadata": {
    "trusted": true,
    "_uuid": "0a518b83d8655daf6011af0755112d7d76fb5f7f"
   },
   "outputs": [],
   "source": [
    "# Drop stange 'dict' column\n",
    "train = train.drop(['adwordsClickInfo'], axis=1)\n",
    "test = test.drop(['adwordsClickInfo'], axis=1)\n",
    "# Drop column that exists only in train data\n",
    "train = train.drop(['campaignCode'], axis=1)\n",
    "# Input missing transactionRevenue values\n",
    "train[\"transactionRevenue\"].fillna(0, inplace=True)\n",
    "\n",
    "test_ids = test[\"fullVisitorId\"].values"
   ]
  },
  {
   "cell_type": "markdown",
   "metadata": {
    "_uuid": "83461e87e03bf7c1ed283ae1acd20b6fdd62f86e"
   },
   "source": [
    "### Drop unwanted columns"
   ]
  },
  {
   "cell_type": "code",
   "execution_count": 48,
   "metadata": {
    "trusted": true,
    "_uuid": "aed9c5286317a4a99d6ad698da3f426d89482bc3"
   },
   "outputs": [
    {
     "name": "stdout",
     "output_type": "stream",
     "text": [
      "Columns with constant values:  ['socialEngagementType', 'language', 'mobileDeviceBranding', 'screenResolution', 'cityId', 'latitude', 'longitude', 'bounces', 'newVisits', 'visits']\nColumns more than 50% null values:  []\n"
     ]
    }
   ],
   "source": [
    "# Unwanted columns\n",
    "unwanted_columns = ['fullVisitorId', 'sessionId', 'visitId', 'visitStartTime', \n",
    "                    'browser', 'browserSize', 'browserVersion', 'flashVersion', \n",
    "                    'mobileDeviceInfo', 'mobileDeviceMarketingName', 'mobileDeviceModel', \n",
    "                    'mobileInputSelector', 'operatingSystemVersion', 'screenColors', \n",
    "                    'metro','networkDomain', 'networkLocation', 'adContent', 'campaign', \n",
    "                    'isTrueDirect', 'keyword', 'referralPath', 'source', 'operatingSystem', 'day']\n",
    "\n",
    "train = train.drop(unwanted_columns, axis=1)\n",
    "test = test.drop(unwanted_columns, axis=1)\n",
    "# Constant columns\n",
    "constant_columns = [c for c in train.columns if train[c].nunique()<=1]\n",
    "print('Columns with constant values: ', constant_columns)\n",
    "train = train.drop(constant_columns, axis=1)\n",
    "test = test.drop(constant_columns, axis=1)\n",
    "# Columns with more than 50% null data\n",
    "high_null_columns = [c for c in train.columns if train[c].count()<=len(train) * 0.5]\n",
    "print('Columns more than 50% null values: ', high_null_columns)\n",
    "train = train.drop(high_null_columns, axis=1)\n",
    "test = test.drop(high_null_columns, axis=1)"
   ]
  },
  {
   "cell_type": "markdown",
   "metadata": {
    "_uuid": "fa67c4df2ffbabfdedf74e5c9a05cd0c2afc28fd"
   },
   "source": [
    "### This is our new data with some cleaning and engineering."
   ]
  },
  {
   "cell_type": "code",
   "execution_count": 49,
   "metadata": {
    "trusted": true,
    "_uuid": "dc26547fca1279cc668ca6b0218ad8be84632f6c",
    "_kg_hide-input": true
   },
   "outputs": [
    {
     "name": "stdout",
     "output_type": "stream",
     "text": [
      "TRAIN SET\nRows: 903653\nColumns: 21\nFeatures: ['channelGrouping' 'date' 'visitNumber' 'deviceCategory' 'isMobile' 'city'\n 'continent' 'country' 'region' 'subContinent' 'hits' 'pageviews'\n 'transactionRevenue' 'medium' 'year' 'month' 'weekday'\n 'mean_hits_per_day' 'mean_pageviews_per_day' 'sum_hits_per_day'\n 'sum_pageviews_per_day']\n\nTEST SET\nRows: 804684\nColumns: 20\nFeatures: ['channelGrouping' 'date' 'visitNumber' 'deviceCategory' 'isMobile' 'city'\n 'continent' 'country' 'region' 'subContinent' 'hits' 'pageviews' 'medium'\n 'year' 'month' 'weekday' 'mean_hits_per_day' 'mean_pageviews_per_day'\n 'sum_hits_per_day' 'sum_pageviews_per_day']\n"
     ]
    }
   ],
   "source": [
    "print('TRAIN SET')\n",
    "print('Rows: %s' % train.shape[0])\n",
    "print('Columns: %s' % train.shape[1])\n",
    "print('Features: %s' % train.columns.values)\n",
    "print()\n",
    "print('TEST SET')\n",
    "print('Rows: %s' % test.shape[0])\n",
    "print('Columns: %s' % test.shape[1])\n",
    "print('Features: %s' % test.columns.values)"
   ]
  },
  {
   "cell_type": "code",
   "execution_count": 50,
   "metadata": {
    "trusted": true,
    "_uuid": "2f09858c65539245776bd32982adca00a83cd0b8",
    "_kg_hide-input": true
   },
   "outputs": [
    {
     "data": {
      "text/html": [
       "<div>\n<style scoped>\n    .dataframe tbody tr th:only-of-type {\n        vertical-align: middle;\n    }\n\n    .dataframe tbody tr th {\n        vertical-align: top;\n    }\n\n    .dataframe thead th {\n        text-align: right;\n    }\n</style>\n<table border=\"1\" class=\"dataframe\">\n  <thead>\n    <tr style=\"text-align: right;\">\n      <th></th>\n      <th>channelGrouping</th>\n      <th>date</th>\n      <th>visitNumber</th>\n      <th>deviceCategory</th>\n      <th>isMobile</th>\n      <th>city</th>\n      <th>continent</th>\n      <th>country</th>\n      <th>region</th>\n      <th>subContinent</th>\n      <th>hits</th>\n      <th>pageviews</th>\n      <th>transactionRevenue</th>\n      <th>medium</th>\n      <th>year</th>\n      <th>month</th>\n      <th>weekday</th>\n      <th>mean_hits_per_day</th>\n      <th>mean_pageviews_per_day</th>\n      <th>sum_hits_per_day</th>\n      <th>sum_pageviews_per_day</th>\n    </tr>\n  </thead>\n  <tbody>\n    <tr>\n      <th>0</th>\n      <td>Organic Search</td>\n      <td>2016-09-02</td>\n      <td>1</td>\n      <td>desktop</td>\n      <td>False</td>\n      <td>Izmir</td>\n      <td>Asia</td>\n      <td>Turkey</td>\n      <td>Izmir</td>\n      <td>Western Asia</td>\n      <td>1.0</td>\n      <td>1.0</td>\n      <td>0.0</td>\n      <td>organic</td>\n      <td>2016</td>\n      <td>9</td>\n      <td>4</td>\n      <td>3.943076</td>\n      <td>3.371298</td>\n      <td>83747.0</td>\n      <td>71603.0</td>\n    </tr>\n    <tr>\n      <th>1</th>\n      <td>Organic Search</td>\n      <td>2016-09-02</td>\n      <td>1</td>\n      <td>desktop</td>\n      <td>False</td>\n      <td>not available in demo dataset</td>\n      <td>Oceania</td>\n      <td>Australia</td>\n      <td>not available in demo dataset</td>\n      <td>Australasia</td>\n      <td>1.0</td>\n      <td>1.0</td>\n      <td>0.0</td>\n      <td>organic</td>\n      <td>2016</td>\n      <td>9</td>\n      <td>4</td>\n      <td>3.943076</td>\n      <td>3.371298</td>\n      <td>83747.0</td>\n      <td>71603.0</td>\n    </tr>\n    <tr>\n      <th>2</th>\n      <td>Organic Search</td>\n      <td>2016-09-02</td>\n      <td>1</td>\n      <td>desktop</td>\n      <td>False</td>\n      <td>Madrid</td>\n      <td>Europe</td>\n      <td>Spain</td>\n      <td>Community of Madrid</td>\n      <td>Southern Europe</td>\n      <td>1.0</td>\n      <td>1.0</td>\n      <td>0.0</td>\n      <td>organic</td>\n      <td>2016</td>\n      <td>9</td>\n      <td>4</td>\n      <td>3.943076</td>\n      <td>3.371298</td>\n      <td>83747.0</td>\n      <td>71603.0</td>\n    </tr>\n    <tr>\n      <th>3</th>\n      <td>Organic Search</td>\n      <td>2016-09-02</td>\n      <td>1</td>\n      <td>desktop</td>\n      <td>False</td>\n      <td>not available in demo dataset</td>\n      <td>Asia</td>\n      <td>Indonesia</td>\n      <td>not available in demo dataset</td>\n      <td>Southeast Asia</td>\n      <td>1.0</td>\n      <td>1.0</td>\n      <td>0.0</td>\n      <td>organic</td>\n      <td>2016</td>\n      <td>9</td>\n      <td>4</td>\n      <td>3.943076</td>\n      <td>3.371298</td>\n      <td>83747.0</td>\n      <td>71603.0</td>\n    </tr>\n    <tr>\n      <th>4</th>\n      <td>Organic Search</td>\n      <td>2016-09-02</td>\n      <td>2</td>\n      <td>mobile</td>\n      <td>True</td>\n      <td>not available in demo dataset</td>\n      <td>Europe</td>\n      <td>United Kingdom</td>\n      <td>not available in demo dataset</td>\n      <td>Northern Europe</td>\n      <td>1.0</td>\n      <td>1.0</td>\n      <td>0.0</td>\n      <td>organic</td>\n      <td>2016</td>\n      <td>9</td>\n      <td>4</td>\n      <td>4.324027</td>\n      <td>3.666491</td>\n      <td>90290.0</td>\n      <td>76560.0</td>\n    </tr>\n  </tbody>\n</table>\n</div>"
      ],
      "text/plain": [
       "  channelGrouping       date  visitNumber deviceCategory  isMobile  \\\n0  Organic Search 2016-09-02            1        desktop     False   \n1  Organic Search 2016-09-02            1        desktop     False   \n2  Organic Search 2016-09-02            1        desktop     False   \n3  Organic Search 2016-09-02            1        desktop     False   \n4  Organic Search 2016-09-02            2         mobile      True   \n\n                            city continent         country  \\\n0                          Izmir      Asia          Turkey   \n1  not available in demo dataset   Oceania       Australia   \n2                         Madrid    Europe           Spain   \n3  not available in demo dataset      Asia       Indonesia   \n4  not available in demo dataset    Europe  United Kingdom   \n\n                          region     subContinent  hits  pageviews  \\\n0                          Izmir     Western Asia   1.0        1.0   \n1  not available in demo dataset      Australasia   1.0        1.0   \n2            Community of Madrid  Southern Europe   1.0        1.0   \n3  not available in demo dataset   Southeast Asia   1.0        1.0   \n4  not available in demo dataset  Northern Europe   1.0        1.0   \n\n   transactionRevenue   medium  year  month  weekday  mean_hits_per_day  \\\n0                 0.0  organic  2016      9        4           3.943076   \n1                 0.0  organic  2016      9        4           3.943076   \n2                 0.0  organic  2016      9        4           3.943076   \n3                 0.0  organic  2016      9        4           3.943076   \n4                 0.0  organic  2016      9        4           4.324027   \n\n   mean_pageviews_per_day  sum_hits_per_day  sum_pageviews_per_day  \n0                3.371298           83747.0                71603.0  \n1                3.371298           83747.0                71603.0  \n2                3.371298           83747.0                71603.0  \n3                3.371298           83747.0                71603.0  \n4                3.666491           90290.0                76560.0  "
      ]
     },
     "execution_count": 50,
     "metadata": {},
     "output_type": "execute_result"
    }
   ],
   "source": [
    "train.head()"
   ]
  },
  {
   "cell_type": "markdown",
   "metadata": {
    "_uuid": "b116a23b4e0b27e83a58b42b78aa20dae008ef3b"
   },
   "source": [
    "### One-hot encode categorical data"
   ]
  },
  {
   "cell_type": "code",
   "execution_count": 51,
   "metadata": {
    "trusted": true,
    "_uuid": "ea46ffcd3a8a252581b82b34efea67bca1d7c323"
   },
   "outputs": [],
   "source": [
    "categorical_features = ['isMobile', 'month', 'weekday']\n",
    "train = pd.get_dummies(train, columns=categorical_features)\n",
    "test = pd.get_dummies(test, columns=categorical_features)"
   ]
  },
  {
   "cell_type": "code",
   "execution_count": 52,
   "metadata": {
    "trusted": true,
    "_uuid": "d3cad54cc1308c8d860dd9a7be62240ecf2e41a6"
   },
   "outputs": [],
   "source": [
    "# align both data sets (by outer join), to make they have the same amount of features,\n",
    "# this is required because of the mismatched categorical values in train and test sets\n",
    "train, test = train.align(test, join='outer', axis=1)\n",
    "\n",
    "# replace the nan values added by align for 0\n",
    "train.replace(to_replace=np.nan, value=0, inplace=True)\n",
    "test.replace(to_replace=np.nan, value=0, inplace=True)"
   ]
  },
  {
   "cell_type": "markdown",
   "metadata": {
    "_uuid": "7165c6e2ca825cc63ca5e731eacf74bf64dbe5e4"
   },
   "source": [
    "### Split data in train and validation by date\n* This time based split will result in approximated 85% train and 15% validation."
   ]
  },
  {
   "cell_type": "code",
   "execution_count": 53,
   "metadata": {
    "trusted": true,
    "_uuid": "5e6053dd095976d91b58930556b81536dbb9e8ba",
    "_kg_hide-output": true
   },
   "outputs": [
    {
     "name": "stderr",
     "output_type": "stream",
     "text": [
      "/opt/conda/lib/python3.6/site-packages/ipykernel_launcher.py:1: FutureWarning: Comparing Series of datetimes with 'datetime.date'.  Currently, the\n'datetime.date' is coerced to a datetime. In the future pandas will\nnot coerce, and a TypeError will be raised. To retain the current\nbehavior, convert the 'datetime.date' to a datetime with\n'pd.Timestamp'.\n  \"\"\"Entry point for launching an IPython kernel.\n/opt/conda/lib/python3.6/site-packages/ipykernel_launcher.py:2: FutureWarning: Comparing Series of datetimes with 'datetime.date'.  Currently, the\n'datetime.date' is coerced to a datetime. In the future pandas will\nnot coerce, and a TypeError will be raised. To retain the current\nbehavior, convert the 'datetime.date' to a datetime with\n'pd.Timestamp'.\n  \n"
     ]
    }
   ],
   "source": [
    "X_train = train[train['date']<=datetime.date(2017, 5, 31)]\n",
    "X_val = train[train['date']>datetime.date(2017, 5, 31)]"
   ]
  },
  {
   "cell_type": "code",
   "execution_count": 54,
   "metadata": {
    "trusted": true,
    "_uuid": "41a6ecec90bfdc51b04d8f7e576123c88bb76c03"
   },
   "outputs": [],
   "source": [
    "# Get labels\n",
    "Y_train = X_train['transactionRevenue'].values\n",
    "Y_val = X_val['transactionRevenue'].values\n",
    "X_train = X_train.drop(['transactionRevenue'], axis=1)\n",
    "X_val = X_val.drop(['transactionRevenue'], axis=1)\n",
    "test = test.drop(['transactionRevenue'], axis=1)\n",
    "# Log transform the labels\n",
    "Y_train = np.log1p(Y_train)\n",
    "Y_val = np.log1p(Y_val)"
   ]
  },
  {
   "cell_type": "code",
   "execution_count": 55,
   "metadata": {
    "trusted": true,
    "_uuid": "319489402ef72e89cd3e755c56f4dad5fa66f621"
   },
   "outputs": [],
   "source": [
    "reduce_features = ['city', 'medium', 'channelGrouping', 'region', \n",
    "                   'subContinent', 'country', 'continent', 'deviceCategory', \n",
    "                   'year', 'date']\n",
    "X_train = X_train.drop(reduce_features, axis=1)\n",
    "X_val = X_val.drop(reduce_features, axis=1)\n",
    "test = test.drop(reduce_features, axis=1)"
   ]
  },
  {
   "cell_type": "code",
   "execution_count": 56,
   "metadata": {
    "trusted": true,
    "_uuid": "8ea8506352342e8dfb29b72cb0300f12ea1882c8"
   },
   "outputs": [
    {
     "data": {
      "text/html": [
       "<div>\n<style scoped>\n    .dataframe tbody tr th:only-of-type {\n        vertical-align: middle;\n    }\n\n    .dataframe tbody tr th {\n        vertical-align: top;\n    }\n\n    .dataframe thead th {\n        text-align: right;\n    }\n</style>\n<table border=\"1\" class=\"dataframe\">\n  <thead>\n    <tr style=\"text-align: right;\">\n      <th></th>\n      <th>hits</th>\n      <th>isMobile_False</th>\n      <th>isMobile_True</th>\n      <th>mean_hits_per_day</th>\n      <th>mean_pageviews_per_day</th>\n      <th>month_1</th>\n      <th>month_10</th>\n      <th>month_11</th>\n      <th>month_12</th>\n      <th>month_2</th>\n      <th>month_3</th>\n      <th>month_4</th>\n      <th>month_5</th>\n      <th>month_6</th>\n      <th>month_7</th>\n      <th>month_8</th>\n      <th>month_9</th>\n      <th>pageviews</th>\n      <th>sum_hits_per_day</th>\n      <th>sum_pageviews_per_day</th>\n      <th>visitNumber</th>\n      <th>weekday_0</th>\n      <th>weekday_1</th>\n      <th>weekday_2</th>\n      <th>weekday_3</th>\n      <th>weekday_4</th>\n      <th>weekday_5</th>\n      <th>weekday_6</th>\n    </tr>\n  </thead>\n  <tbody>\n    <tr>\n      <th>0</th>\n      <td>1.0</td>\n      <td>1</td>\n      <td>0</td>\n      <td>3.943076</td>\n      <td>3.371298</td>\n      <td>0</td>\n      <td>0</td>\n      <td>0</td>\n      <td>0</td>\n      <td>0</td>\n      <td>0</td>\n      <td>0</td>\n      <td>0</td>\n      <td>0</td>\n      <td>0</td>\n      <td>0</td>\n      <td>1</td>\n      <td>1.0</td>\n      <td>83747.0</td>\n      <td>71603.0</td>\n      <td>1</td>\n      <td>0</td>\n      <td>0</td>\n      <td>0</td>\n      <td>0</td>\n      <td>1</td>\n      <td>0</td>\n      <td>0</td>\n    </tr>\n    <tr>\n      <th>1</th>\n      <td>1.0</td>\n      <td>1</td>\n      <td>0</td>\n      <td>3.943076</td>\n      <td>3.371298</td>\n      <td>0</td>\n      <td>0</td>\n      <td>0</td>\n      <td>0</td>\n      <td>0</td>\n      <td>0</td>\n      <td>0</td>\n      <td>0</td>\n      <td>0</td>\n      <td>0</td>\n      <td>0</td>\n      <td>1</td>\n      <td>1.0</td>\n      <td>83747.0</td>\n      <td>71603.0</td>\n      <td>1</td>\n      <td>0</td>\n      <td>0</td>\n      <td>0</td>\n      <td>0</td>\n      <td>1</td>\n      <td>0</td>\n      <td>0</td>\n    </tr>\n    <tr>\n      <th>2</th>\n      <td>1.0</td>\n      <td>1</td>\n      <td>0</td>\n      <td>3.943076</td>\n      <td>3.371298</td>\n      <td>0</td>\n      <td>0</td>\n      <td>0</td>\n      <td>0</td>\n      <td>0</td>\n      <td>0</td>\n      <td>0</td>\n      <td>0</td>\n      <td>0</td>\n      <td>0</td>\n      <td>0</td>\n      <td>1</td>\n      <td>1.0</td>\n      <td>83747.0</td>\n      <td>71603.0</td>\n      <td>1</td>\n      <td>0</td>\n      <td>0</td>\n      <td>0</td>\n      <td>0</td>\n      <td>1</td>\n      <td>0</td>\n      <td>0</td>\n    </tr>\n    <tr>\n      <th>3</th>\n      <td>1.0</td>\n      <td>1</td>\n      <td>0</td>\n      <td>3.943076</td>\n      <td>3.371298</td>\n      <td>0</td>\n      <td>0</td>\n      <td>0</td>\n      <td>0</td>\n      <td>0</td>\n      <td>0</td>\n      <td>0</td>\n      <td>0</td>\n      <td>0</td>\n      <td>0</td>\n      <td>0</td>\n      <td>1</td>\n      <td>1.0</td>\n      <td>83747.0</td>\n      <td>71603.0</td>\n      <td>1</td>\n      <td>0</td>\n      <td>0</td>\n      <td>0</td>\n      <td>0</td>\n      <td>1</td>\n      <td>0</td>\n      <td>0</td>\n    </tr>\n    <tr>\n      <th>4</th>\n      <td>1.0</td>\n      <td>0</td>\n      <td>1</td>\n      <td>4.324027</td>\n      <td>3.666491</td>\n      <td>0</td>\n      <td>0</td>\n      <td>0</td>\n      <td>0</td>\n      <td>0</td>\n      <td>0</td>\n      <td>0</td>\n      <td>0</td>\n      <td>0</td>\n      <td>0</td>\n      <td>0</td>\n      <td>1</td>\n      <td>1.0</td>\n      <td>90290.0</td>\n      <td>76560.0</td>\n      <td>2</td>\n      <td>0</td>\n      <td>0</td>\n      <td>0</td>\n      <td>0</td>\n      <td>1</td>\n      <td>0</td>\n      <td>0</td>\n    </tr>\n  </tbody>\n</table>\n</div>"
      ],
      "text/plain": [
       "   hits  isMobile_False  isMobile_True  mean_hits_per_day  \\\n0   1.0               1              0           3.943076   \n1   1.0               1              0           3.943076   \n2   1.0               1              0           3.943076   \n3   1.0               1              0           3.943076   \n4   1.0               0              1           4.324027   \n\n   mean_pageviews_per_day  month_1  month_10  month_11  month_12  month_2  \\\n0                3.371298        0         0         0         0        0   \n1                3.371298        0         0         0         0        0   \n2                3.371298        0         0         0         0        0   \n3                3.371298        0         0         0         0        0   \n4                3.666491        0         0         0         0        0   \n\n   month_3  month_4  month_5  month_6  month_7  month_8  month_9  pageviews  \\\n0        0        0        0        0        0        0        1        1.0   \n1        0        0        0        0        0        0        1        1.0   \n2        0        0        0        0        0        0        1        1.0   \n3        0        0        0        0        0        0        1        1.0   \n4        0        0        0        0        0        0        1        1.0   \n\n   sum_hits_per_day  sum_pageviews_per_day  visitNumber  weekday_0  weekday_1  \\\n0           83747.0                71603.0            1          0          0   \n1           83747.0                71603.0            1          0          0   \n2           83747.0                71603.0            1          0          0   \n3           83747.0                71603.0            1          0          0   \n4           90290.0                76560.0            2          0          0   \n\n   weekday_2  weekday_3  weekday_4  weekday_5  weekday_6  \n0          0          0          1          0          0  \n1          0          0          1          0          0  \n2          0          0          1          0          0  \n3          0          0          1          0          0  \n4          0          0          1          0          0  "
      ]
     },
     "execution_count": 56,
     "metadata": {},
     "output_type": "execute_result"
    }
   ],
   "source": [
    "X_train.head()"
   ]
  },
  {
   "cell_type": "markdown",
   "metadata": {
    "_uuid": "a8ee14b132de2ddad8ed79bf2e1e4ce603e09c48"
   },
   "source": [
    "### Normalize the data"
   ]
  },
  {
   "cell_type": "code",
   "execution_count": 57,
   "metadata": {
    "trusted": true,
    "_uuid": "fae2367dc4adc4314ca307403b133163e0c9b1ee",
    "_kg_hide-output": true
   },
   "outputs": [],
   "source": [
    "normalized_features = ['visitNumber', 'hits', 'pageviews', \n",
    "                       'mean_hits_per_day', 'mean_pageviews_per_day', \n",
    "                       'sum_hits_per_day', 'sum_pageviews_per_day']\n",
    "\n",
    "# Normalize using Min-Max scaling\n",
    "scaler = preprocessing.MinMaxScaler()\n",
    "X_train[normalized_features] = scaler.fit_transform(X_train[normalized_features])\n",
    "X_val[normalized_features] = scaler.transform(X_val[normalized_features])\n",
    "test[normalized_features] = scaler.transform(test[normalized_features])"
   ]
  },
  {
   "cell_type": "code",
   "execution_count": 58,
   "metadata": {
    "trusted": true,
    "_uuid": "2b1bb7a3525f706c1025995e45f75f1585ed7823",
    "_kg_hide-output": false,
    "_kg_hide-input": true
   },
   "outputs": [
    {
     "data": {
      "text/html": [
       "<div>\n<style scoped>\n    .dataframe tbody tr th:only-of-type {\n        vertical-align: middle;\n    }\n\n    .dataframe tbody tr th {\n        vertical-align: top;\n    }\n\n    .dataframe thead th {\n        text-align: right;\n    }\n</style>\n<table border=\"1\" class=\"dataframe\">\n  <thead>\n    <tr style=\"text-align: right;\">\n      <th></th>\n      <th>hits</th>\n      <th>isMobile_False</th>\n      <th>isMobile_True</th>\n      <th>mean_hits_per_day</th>\n      <th>mean_pageviews_per_day</th>\n      <th>month_1</th>\n      <th>month_10</th>\n      <th>month_11</th>\n      <th>month_12</th>\n      <th>month_2</th>\n      <th>month_3</th>\n      <th>month_4</th>\n      <th>month_5</th>\n      <th>month_6</th>\n      <th>month_7</th>\n      <th>month_8</th>\n      <th>month_9</th>\n      <th>pageviews</th>\n      <th>sum_hits_per_day</th>\n      <th>sum_pageviews_per_day</th>\n      <th>visitNumber</th>\n      <th>weekday_0</th>\n      <th>weekday_1</th>\n      <th>weekday_2</th>\n      <th>weekday_3</th>\n      <th>weekday_4</th>\n      <th>weekday_5</th>\n      <th>weekday_6</th>\n    </tr>\n  </thead>\n  <tbody>\n    <tr>\n      <th>0</th>\n      <td>0.0</td>\n      <td>1</td>\n      <td>0</td>\n      <td>0.000076</td>\n      <td>0.000075</td>\n      <td>0</td>\n      <td>0</td>\n      <td>0</td>\n      <td>0</td>\n      <td>0</td>\n      <td>0</td>\n      <td>0</td>\n      <td>0</td>\n      <td>0</td>\n      <td>0</td>\n      <td>0</td>\n      <td>1</td>\n      <td>0.002132</td>\n      <td>0.849059</td>\n      <td>0.851890</td>\n      <td>0.000000</td>\n      <td>0</td>\n      <td>0</td>\n      <td>0</td>\n      <td>0</td>\n      <td>1</td>\n      <td>0</td>\n      <td>0</td>\n    </tr>\n    <tr>\n      <th>1</th>\n      <td>0.0</td>\n      <td>1</td>\n      <td>0</td>\n      <td>0.000076</td>\n      <td>0.000075</td>\n      <td>0</td>\n      <td>0</td>\n      <td>0</td>\n      <td>0</td>\n      <td>0</td>\n      <td>0</td>\n      <td>0</td>\n      <td>0</td>\n      <td>0</td>\n      <td>0</td>\n      <td>0</td>\n      <td>1</td>\n      <td>0.002132</td>\n      <td>0.849059</td>\n      <td>0.851890</td>\n      <td>0.000000</td>\n      <td>0</td>\n      <td>0</td>\n      <td>0</td>\n      <td>0</td>\n      <td>1</td>\n      <td>0</td>\n      <td>0</td>\n    </tr>\n    <tr>\n      <th>2</th>\n      <td>0.0</td>\n      <td>1</td>\n      <td>0</td>\n      <td>0.000076</td>\n      <td>0.000075</td>\n      <td>0</td>\n      <td>0</td>\n      <td>0</td>\n      <td>0</td>\n      <td>0</td>\n      <td>0</td>\n      <td>0</td>\n      <td>0</td>\n      <td>0</td>\n      <td>0</td>\n      <td>0</td>\n      <td>1</td>\n      <td>0.002132</td>\n      <td>0.849059</td>\n      <td>0.851890</td>\n      <td>0.000000</td>\n      <td>0</td>\n      <td>0</td>\n      <td>0</td>\n      <td>0</td>\n      <td>1</td>\n      <td>0</td>\n      <td>0</td>\n    </tr>\n    <tr>\n      <th>3</th>\n      <td>0.0</td>\n      <td>1</td>\n      <td>0</td>\n      <td>0.000076</td>\n      <td>0.000075</td>\n      <td>0</td>\n      <td>0</td>\n      <td>0</td>\n      <td>0</td>\n      <td>0</td>\n      <td>0</td>\n      <td>0</td>\n      <td>0</td>\n      <td>0</td>\n      <td>0</td>\n      <td>0</td>\n      <td>1</td>\n      <td>0.002132</td>\n      <td>0.849059</td>\n      <td>0.851890</td>\n      <td>0.000000</td>\n      <td>0</td>\n      <td>0</td>\n      <td>0</td>\n      <td>0</td>\n      <td>1</td>\n      <td>0</td>\n      <td>0</td>\n    </tr>\n    <tr>\n      <th>4</th>\n      <td>0.0</td>\n      <td>0</td>\n      <td>1</td>\n      <td>0.000153</td>\n      <td>0.000146</td>\n      <td>0</td>\n      <td>0</td>\n      <td>0</td>\n      <td>0</td>\n      <td>0</td>\n      <td>0</td>\n      <td>0</td>\n      <td>0</td>\n      <td>0</td>\n      <td>0</td>\n      <td>0</td>\n      <td>1</td>\n      <td>0.002132</td>\n      <td>0.915408</td>\n      <td>0.910879</td>\n      <td>0.002591</td>\n      <td>0</td>\n      <td>0</td>\n      <td>0</td>\n      <td>0</td>\n      <td>1</td>\n      <td>0</td>\n      <td>0</td>\n    </tr>\n  </tbody>\n</table>\n</div>"
      ],
      "text/plain": [
       "   hits  isMobile_False  isMobile_True  mean_hits_per_day  \\\n0   0.0               1              0           0.000076   \n1   0.0               1              0           0.000076   \n2   0.0               1              0           0.000076   \n3   0.0               1              0           0.000076   \n4   0.0               0              1           0.000153   \n\n   mean_pageviews_per_day  month_1  month_10  month_11  month_12  month_2  \\\n0                0.000075        0         0         0         0        0   \n1                0.000075        0         0         0         0        0   \n2                0.000075        0         0         0         0        0   \n3                0.000075        0         0         0         0        0   \n4                0.000146        0         0         0         0        0   \n\n   month_3  month_4  month_5  month_6  month_7  month_8  month_9  pageviews  \\\n0        0        0        0        0        0        0        1   0.002132   \n1        0        0        0        0        0        0        1   0.002132   \n2        0        0        0        0        0        0        1   0.002132   \n3        0        0        0        0        0        0        1   0.002132   \n4        0        0        0        0        0        0        1   0.002132   \n\n   sum_hits_per_day  sum_pageviews_per_day  visitNumber  weekday_0  weekday_1  \\\n0          0.849059               0.851890     0.000000          0          0   \n1          0.849059               0.851890     0.000000          0          0   \n2          0.849059               0.851890     0.000000          0          0   \n3          0.849059               0.851890     0.000000          0          0   \n4          0.915408               0.910879     0.002591          0          0   \n\n   weekday_2  weekday_3  weekday_4  weekday_5  weekday_6  \n0          0          0          1          0          0  \n1          0          0          1          0          0  \n2          0          0          1          0          0  \n3          0          0          1          0          0  \n4          0          0          1          0          0  "
      ]
     },
     "execution_count": 58,
     "metadata": {},
     "output_type": "execute_result"
    }
   ],
   "source": [
    "X_train.head()"
   ]
  },
  {
   "cell_type": "markdown",
   "metadata": {
    "_uuid": "ba7e8af998f613b559c168c8669e5a732c832d35"
   },
   "source": [
    "### Model\n* Now let's try some deep learning to model our data."
   ]
  },
  {
   "cell_type": "code",
   "execution_count": 59,
   "metadata": {
    "trusted": true,
    "_uuid": "6835a447460f64c9e82379046dc9690e94679a01",
    "_kg_hide-input": true
   },
   "outputs": [],
   "source": [
    "BATCH_SIZE = 128\n",
    "EPOCHS = 50\n",
    "LEARNING_RATE = 0.0003"
   ]
  },
  {
   "cell_type": "code",
   "execution_count": 60,
   "metadata": {
    "trusted": true,
    "_uuid": "f4458c97694da66e9547632accf0a474262e82de"
   },
   "outputs": [],
   "source": [
    "model = Sequential()\n",
    "model.add(Dense(256, kernel_initializer='glorot_normal', activation='relu', input_dim=X_train.shape[1]))\n",
    "model.add(Dense(128, kernel_initializer='glorot_normal', activation='relu'))\n",
    "model.add(Dense(1))"
   ]
  },
  {
   "cell_type": "code",
   "execution_count": 61,
   "metadata": {
    "trusted": true,
    "_uuid": "c12612ae50ad5de10ac61abbbc8366feffd62619"
   },
   "outputs": [],
   "source": [
    "adam = optimizers.adam(lr=LEARNING_RATE)\n",
    "model.compile(loss='mse', optimizer=adam)"
   ]
  },
  {
   "cell_type": "code",
   "execution_count": 62,
   "metadata": {
    "_kg_hide-input": true,
    "trusted": true,
    "_uuid": "c74906e7da0ddf8c2f4de9d45154d718f64b1f0c"
   },
   "outputs": [
    {
     "name": "stdout",
     "output_type": "stream",
     "text": [
      "Dataset size: 765707\nEpochs: 50\nLearning rate: 0.0003\nBatch size: 128\nInput dimension: 28\nFeatures used: ['hits' 'isMobile_False' 'isMobile_True' 'mean_hits_per_day'\n 'mean_pageviews_per_day' 'month_1' 'month_10' 'month_11' 'month_12'\n 'month_2' 'month_3' 'month_4' 'month_5' 'month_6' 'month_7' 'month_8'\n 'month_9' 'pageviews' 'sum_hits_per_day' 'sum_pageviews_per_day'\n 'visitNumber' 'weekday_0' 'weekday_1' 'weekday_2' 'weekday_3' 'weekday_4'\n 'weekday_5' 'weekday_6']\n"
     ]
    }
   ],
   "source": [
    "print('Dataset size: %s' % X_train.shape[0])\n",
    "print('Epochs: %s' % EPOCHS)\n",
    "print('Learning rate: %s' % LEARNING_RATE)\n",
    "print('Batch size: %s' % BATCH_SIZE)\n",
    "print('Input dimension: %s' % X_train.shape[1])\n",
    "print('Features used: %s' % X_train.columns.values)"
   ]
  },
  {
   "cell_type": "code",
   "execution_count": 63,
   "metadata": {
    "_kg_hide-input": true,
    "trusted": true,
    "_uuid": "fb5a065b3bf83364d4e4384e0055bf3927813033"
   },
   "outputs": [
    {
     "name": "stdout",
     "output_type": "stream",
     "text": [
      "_________________________________________________________________\nLayer (type)                 Output Shape              Param #   \n=================================================================\ndense_4 (Dense)              (None, 256)               7424      \n_________________________________________________________________\ndense_5 (Dense)              (None, 128)               32896     \n_________________________________________________________________\ndense_6 (Dense)              (None, 1)                 129       \n=================================================================\nTotal params: 40,449\nTrainable params: 40,449\nNon-trainable params: 0\n_________________________________________________________________\n"
     ]
    }
   ],
   "source": [
    "model.summary()"
   ]
  },
  {
   "cell_type": "code",
   "execution_count": 64,
   "metadata": {
    "trusted": true,
    "_uuid": "fd8f201b71e6db7c61f22ffae5d182c5462fde7a",
    "_kg_hide-output": true
   },
   "outputs": [
    {
     "name": "stdout",
     "output_type": "stream",
     "text": [
      "Train on 765707 samples, validate on 137946 samples\nEpoch 1/50\n765707/765707 [==============================] - 25s 32us/step - loss: 3.2894 - val_loss: 3.7535\nEpoch 2/50\n765707/765707 [==============================] - 25s 32us/step - loss: 3.1254 - val_loss: 3.7109\nEpoch 3/50\n765707/765707 [==============================] - 24s 32us/step - loss: 3.0905 - val_loss: 3.7193\nEpoch 4/50\n765707/765707 [==============================] - 24s 32us/step - loss: 3.0741 - val_loss: 3.6586\nEpoch 5/50\n765707/765707 [==============================] - 24s 32us/step - loss: 3.0607 - val_loss: 3.6683\nEpoch 6/50\n765707/765707 [==============================] - 24s 32us/step - loss: 3.0525 - val_loss: 3.6947\nEpoch 7/50\n765707/765707 [==============================] - 25s 32us/step - loss: 3.0446 - val_loss: 3.6056\nEpoch 8/50\n765707/765707 [==============================] - 24s 32us/step - loss: 3.0356 - val_loss: 3.7445\nEpoch 9/50\n765707/765707 [==============================] - 25s 32us/step - loss: 3.0281 - val_loss: 3.6146\nEpoch 10/50\n765707/765707 [==============================] - 24s 32us/step - loss: 3.0206 - val_loss: 3.6358\nEpoch 11/50\n765707/765707 [==============================] - 24s 32us/step - loss: 3.0130 - val_loss: 3.6084\nEpoch 12/50\n765707/765707 [==============================] - 25s 32us/step - loss: 3.0036 - val_loss: 3.6542\nEpoch 13/50\n765707/765707 [==============================] - 24s 32us/step - loss: 2.9967 - val_loss: 3.6514\nEpoch 14/50\n765707/765707 [==============================] - 24s 32us/step - loss: 2.9890 - val_loss: 3.6300\nEpoch 15/50\n765707/765707 [==============================] - 25s 32us/step - loss: 2.9810 - val_loss: 3.6023\nEpoch 16/50\n765707/765707 [==============================] - 24s 32us/step - loss: 2.9718 - val_loss: 3.5519\nEpoch 17/50\n765707/765707 [==============================] - 24s 32us/step - loss: 2.9631 - val_loss: 3.5596\nEpoch 18/50\n765707/765707 [==============================] - 24s 32us/step - loss: 2.9552 - val_loss: 3.5900\nEpoch 19/50\n765707/765707 [==============================] - 24s 32us/step - loss: 2.9467 - val_loss: 3.6084\nEpoch 20/50\n765707/765707 [==============================] - 25s 32us/step - loss: 2.9371 - val_loss: 3.5770\nEpoch 21/50\n765707/765707 [==============================] - 24s 32us/step - loss: 2.9313 - val_loss: 3.6111\nEpoch 22/50\n765707/765707 [==============================] - 24s 32us/step - loss: 2.9197 - val_loss: 3.6365\nEpoch 23/50\n765707/765707 [==============================] - 24s 31us/step - loss: 2.9152 - val_loss: 3.6273\nEpoch 24/50\n765707/765707 [==============================] - 24s 32us/step - loss: 2.9044 - val_loss: 3.7386\nEpoch 25/50\n765707/765707 [==============================] - 24s 31us/step - loss: 2.9023 - val_loss: 3.7204\nEpoch 26/50\n765707/765707 [==============================] - 24s 31us/step - loss: 2.8915 - val_loss: 3.7558\nEpoch 27/50\n765707/765707 [==============================] - 24s 31us/step - loss: 2.8872 - val_loss: 3.7266\nEpoch 28/50\n765707/765707 [==============================] - 24s 31us/step - loss: 2.8844 - val_loss: 3.6717\nEpoch 29/50\n765707/765707 [==============================] - 24s 31us/step - loss: 2.8782 - val_loss: 3.7827\nEpoch 30/50\n765707/765707 [==============================] - 24s 31us/step - loss: 2.8748 - val_loss: 3.7887\nEpoch 31/50\n765707/765707 [==============================] - 24s 31us/step - loss: 2.8672 - val_loss: 3.7872\nEpoch 32/50\n765707/765707 [==============================] - 24s 32us/step - loss: 2.8648 - val_loss: 3.8931\nEpoch 33/50\n765707/765707 [==============================] - 25s 32us/step - loss: 2.8589 - val_loss: 3.8026\nEpoch 34/50\n765707/765707 [==============================] - 24s 32us/step - loss: 2.8559 - val_loss: 3.8983\nEpoch 35/50\n765707/765707 [==============================] - 24s 31us/step - loss: 2.8536 - val_loss: 3.8749\nEpoch 36/50\n765707/765707 [==============================] - 24s 31us/step - loss: 2.8485 - val_loss: 3.8871\nEpoch 37/50\n765707/765707 [==============================] - 24s 31us/step - loss: 2.8463 - val_loss: 3.8935\nEpoch 38/50\n765707/765707 [==============================] - 24s 32us/step - loss: 2.8441 - val_loss: 3.9446\nEpoch 39/50\n765707/765707 [==============================] - 24s 32us/step - loss: 2.8436 - val_loss: 3.9365\nEpoch 40/50\n765707/765707 [==============================] - 24s 31us/step - loss: 2.8379 - val_loss: 3.9330\nEpoch 41/50\n765707/765707 [==============================] - 24s 32us/step - loss: 2.8388 - val_loss: 3.9937\nEpoch 42/50\n765707/765707 [==============================] - 24s 32us/step - loss: 2.8314 - val_loss: 4.0120\nEpoch 43/50\n765707/765707 [==============================] - 24s 32us/step - loss: 2.8338 - val_loss: 4.0615\nEpoch 44/50\n765707/765707 [==============================] - 24s 32us/step - loss: 2.8315 - val_loss: 4.0947\nEpoch 45/50\n765707/765707 [==============================] - 24s 32us/step - loss: 2.8277 - val_loss: 4.2245\nEpoch 46/50\n765707/765707 [==============================] - 24s 32us/step - loss: 2.8241 - val_loss: 4.0790\nEpoch 47/50\n765707/765707 [==============================] - 24s 32us/step - loss: 2.8186 - val_loss: 4.2750\nEpoch 48/50\n765707/765707 [==============================] - 24s 31us/step - loss: 2.8210 - val_loss: 4.1487\nEpoch 49/50\n765707/765707 [==============================] - 24s 31us/step - loss: 2.8170 - val_loss: 4.1804\nEpoch 50/50\n765707/765707 [==============================] - 24s 31us/step - loss: 2.8171 - val_loss: 4.3558\n"
     ]
    }
   ],
   "source": [
    "history = model.fit(x=X_train.values, y=Y_train, batch_size=BATCH_SIZE, epochs=EPOCHS, \n",
    "                    verbose=1, validation_data=(X_val.values, Y_val))"
   ]
  },
  {
   "cell_type": "markdown",
   "metadata": {
    "_uuid": "0db6c86387fb9d4800601a0590e3123533cf16e7"
   },
   "source": [
    "### Model metrics and plot"
   ]
  },
  {
   "cell_type": "code",
   "execution_count": 65,
   "metadata": {
    "_kg_hide-input": true,
    "trusted": true,
    "_uuid": "1116d9301275a10be2f6ae81f29eebed3a12e382"
   },
   "outputs": [
    {
     "name": "stdout",
     "output_type": "stream",
     "text": [
      "Model validation metrics\nMSE: 4.36\nRMSE: 2.09\n"
     ]
    }
   ],
   "source": [
    "val_predictions = model.predict(X_val)\n",
    "mse = mean_squared_error(val_predictions, Y_val)\n",
    "rmse = np.sqrt(mean_squared_error(val_predictions, Y_val))\n",
    "\n",
    "print('Model validation metrics')\n",
    "print('MSE: %.2f' % mse)\n",
    "print('RMSE: %.2f' % rmse)"
   ]
  },
  {
   "cell_type": "code",
   "execution_count": 66,
   "metadata": {
    "trusted": true,
    "_uuid": "5f9a4b6061b48744e59627d62d3364af3c6aacdd"
   },
   "outputs": [
    {
     "data": {
      "image/png": "[encoded data removed]",
      "text/plain": [
       "<Figure size 1440x504 with 1 Axes>"
      ]
     },
     "metadata": {
      "needs_background": "light"
     },
     "output_type": "display_data"
    }
   ],
   "source": [
    "plot_metrics(history.history['loss'], history.history['val_loss'])"
   ]
  },
  {
   "cell_type": "code",
   "execution_count": 67,
   "metadata": {
    "trusted": true,
    "_uuid": "ac573253c4ab0f3649a62bccbb534e785bc2b151",
    "_kg_hide-output": true
   },
   "outputs": [],
   "source": [
    "predictions = model.predict(test)\n",
    "\n",
    "submission = pd.DataFrame({\"fullVisitorId\":test_ids})\n",
    "predictions[predictions<0] = 0\n",
    "submission[\"PredictedLogRevenue\"] = predictions\n",
    "submission = submission.groupby(\"fullVisitorId\")[\"PredictedLogRevenue\"].sum().reset_index()\n",
    "submission.columns = [\"fullVisitorId\", \"PredictedLogRevenue\"]\n",
    "submission[\"PredictedLogRevenue\"] = submission[\"PredictedLogRevenue\"]\n",
    "submission.to_csv(\"submission.csv\", index=False)"
   ]
  },
  {
   "cell_type": "code",
   "execution_count": 68,
   "metadata": {
    "_kg_hide-input": true,
    "trusted": true,
    "_uuid": "2a90c17dd9515996604ddd21c90aae0d54d8ef23"
   },
   "outputs": [
    {
     "data": {
      "text/html": [
       "<div>\n<style scoped>\n    .dataframe tbody tr th:only-of-type {\n        vertical-align: middle;\n    }\n\n    .dataframe tbody tr th {\n        vertical-align: top;\n    }\n\n    .dataframe thead th {\n        text-align: right;\n    }\n</style>\n<table border=\"1\" class=\"dataframe\">\n  <thead>\n    <tr style=\"text-align: right;\">\n      <th></th>\n      <th>fullVisitorId</th>\n      <th>PredictedLogRevenue</th>\n    </tr>\n  </thead>\n  <tbody>\n    <tr>\n      <th>0</th>\n      <td>0000000259678714014</td>\n      <td>0.972442</td>\n    </tr>\n    <tr>\n      <th>1</th>\n      <td>0000049363351866189</td>\n      <td>0.213335</td>\n    </tr>\n    <tr>\n      <th>2</th>\n      <td>0000053049821714864</td>\n      <td>0.000000</td>\n    </tr>\n    <tr>\n      <th>3</th>\n      <td>0000059488412965267</td>\n      <td>0.028931</td>\n    </tr>\n    <tr>\n      <th>4</th>\n      <td>0000085840370633780</td>\n      <td>0.000000</td>\n    </tr>\n    <tr>\n      <th>5</th>\n      <td>0000091131414287111</td>\n      <td>0.000000</td>\n    </tr>\n    <tr>\n      <th>6</th>\n      <td>0000117255350596610</td>\n      <td>4.531814</td>\n    </tr>\n    <tr>\n      <th>7</th>\n      <td>0000118334805178127</td>\n      <td>0.000000</td>\n    </tr>\n    <tr>\n      <th>8</th>\n      <td>0000130646294093000</td>\n      <td>0.000000</td>\n    </tr>\n    <tr>\n      <th>9</th>\n      <td>0000150005271820273</td>\n      <td>0.008511</td>\n    </tr>\n  </tbody>\n</table>\n</div>"
      ],
      "text/plain": [
       "         fullVisitorId  PredictedLogRevenue\n0  0000000259678714014             0.972442\n1  0000049363351866189             0.213335\n2  0000053049821714864             0.000000\n3  0000059488412965267             0.028931\n4  0000085840370633780             0.000000\n5  0000091131414287111             0.000000\n6  0000117255350596610             4.531814\n7  0000118334805178127             0.000000\n8  0000130646294093000             0.000000\n9  0000150005271820273             0.008511"
      ]
     },
     "execution_count": 68,
     "metadata": {},
     "output_type": "execute_result"
    }
   ],
   "source": [
    "submission.head(10)"
   ]
  }
 ],
 "metadata": {
  "kernelspec": {
   "display_name": "Python 3",
   "language": "python",
   "name": "python3"
  },
  "language_info": {
   "name": "python",
   "version": "3.6.6",
   "mimetype": "text/x-python",
   "codemirror_mode": {
    "name": "ipython",
    "version": 3
   },
   "pygments_lexer": "ipython3",
   "nbconvert_exporter": "python",
   "file_extension": ".py"
  }
 },
 "nbformat": 4,
 "nbformat_minor": 1
}
